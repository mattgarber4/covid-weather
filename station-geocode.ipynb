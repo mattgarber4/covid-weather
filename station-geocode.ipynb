{
 "metadata": {
  "language_info": {
   "codemirror_mode": {
    "name": "ipython",
    "version": 3
   },
   "file_extension": ".py",
   "mimetype": "text/x-python",
   "name": "python",
   "nbconvert_exporter": "python",
   "pygments_lexer": "ipython3",
   "version": "3.8.6-candidate"
  },
  "orig_nbformat": 2,
  "kernelspec": {
   "name": "Python 3.8.6 64-bit",
   "display_name": "Python 3.8.6 64-bit",
   "metadata": {
    "interpreter": {
     "hash": "bfabec5efce52adc0ea3b79cbb8dc72af1f8f50fe9c5028f70d1f4464508bb92"
    }
   }
  }
 },
 "nbformat": 4,
 "nbformat_minor": 2,
 "cells": [
  {
   "cell_type": "code",
   "execution_count": 5,
   "metadata": {},
   "outputs": [],
   "source": [
    "from geopy.geocoders import Nominatim\n",
    "import pandas as pd\n",
    "from tqdm.auto import tqdm\n"
   ]
  },
  {
   "cell_type": "code",
   "execution_count": 7,
   "metadata": {},
   "outputs": [],
   "source": [
    "def loc(row):\n",
    "    try: \n",
    "        if row is not None:\n",
    "            location = geolocater.reverse(row)\n",
    "            if 'address' in location.raw.keys():\n",
    "                if location.raw['address']:\n",
    "                    return {'county': location.raw['address']['county'] if 'county' in location.raw['address'].keys() else None,\n",
    "                            'state2': location.raw['address']['state'] if 'state' in location.raw['address'].keys() else None}\n",
    "        return {'county': None, 'state2': None}\n",
    "    except:\n",
    "        return {'county': 'error', 'state2': 'error'}   \n",
    "\n",
    "def loc_df(row):\n",
    "    return loc(row['coords'])"
   ]
  },
  {
   "cell_type": "code",
   "execution_count": 8,
   "metadata": {},
   "outputs": [],
   "source": [
    "tqdm.pandas()\n",
    "stations = pd.read_csv(\"stations/stations-subset.csv\")\n",
    "geolocater = Nominatim(user_agent='http')\n",
    "\n",
    "stations['coords'] = stations['LAT'].astype(str).str.cat(stations['LON'].astype(str), sep=', ').astype(str)\n"
   ]
  },
  {
   "cell_type": "code",
   "execution_count": 11,
   "metadata": {
    "tags": []
   },
   "outputs": [
    {
     "output_type": "stream",
     "name": "stderr",
     "text": "100%|██████████| 25592/25592 [3:59:42<00:00,  1.78it/s]\n"
    }
   ],
   "source": [
    "stations_transformed = pd.concat([stations, stations.progress_apply(loc_df, axis = 1, result_type='expand')], axis = 1)"
   ]
  },
  {
   "cell_type": "code",
   "execution_count": 13,
   "metadata": {},
   "outputs": [],
   "source": [
    "stations_transformed.to_csv(\"stations/stations-subset-with-counties.csv\", index=False)"
   ]
  }
 ]
}